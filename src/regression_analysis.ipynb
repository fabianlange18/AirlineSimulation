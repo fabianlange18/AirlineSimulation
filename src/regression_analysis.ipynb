{
 "cells": [
  {
   "cell_type": "markdown",
   "metadata": {},
   "source": [
    "## Regression Analysis\n",
    "\n",
    "For the regression analysis, we sampled 100 mse values per method and number of datapoints n. The datapoints can be found in ``/reg_datapoints``.\n",
    "\n",
    "They were sampled by using a reduced version of the simulation framework, skipping all other evaluations."
   ]
  },
  {
   "cell_type": "code",
   "execution_count": 21,
   "metadata": {},
   "outputs": [],
   "source": [
    "import pandas as pd"
   ]
  },
  {
   "cell_type": "code",
   "execution_count": 22,
   "metadata": {},
   "outputs": [],
   "source": [
    "ols_data = pd.read_csv('plots/hist/ols_summary.txt')\n",
    "ols_det_data = pd.read_csv('plots/hist/ols_det_summary.txt')\n",
    "ridge_data = pd.read_csv('plots/hist/ridge_summary.txt')\n",
    "lasso_data = pd.read_csv('plots/hist/lasso_summary.txt')"
   ]
  },
  {
   "cell_type": "code",
   "execution_count": 23,
   "metadata": {},
   "outputs": [],
   "source": [
    "# normalize\n",
    "ols_data[' mse'] = ols_data[' mse'] / 20\n",
    "ols_det_data[' mse'] = ols_det_data[' mse'] / 20\n",
    "ridge_data[' mse'] = ridge_data[' mse'] / 20\n",
    "lasso_data[' mse'] = lasso_data[' mse'] / 20"
   ]
  },
  {
   "cell_type": "code",
   "execution_count": 24,
   "metadata": {},
   "outputs": [],
   "source": [
    "grouped = ols_data.groupby('n')\n",
    "ols_mean = grouped.mean()\n",
    "ols_std = grouped.std()\n",
    "grouped = ols_det_data.groupby('n')\n",
    "ols_det_mean = grouped.mean()\n",
    "ols_det_std = grouped.std()\n",
    "grouped = ridge_data.groupby('n')\n",
    "ridge_mean = grouped.mean()\n",
    "ridge_std = grouped.std()\n",
    "grouped = lasso_data.groupby('n')\n",
    "lasso_mean = grouped.mean()\n",
    "lasso_std = grouped.std()\n",
    "\n",
    "result = pd.concat([ols_mean, ols_std, ols_det_mean, ols_det_std, ridge_mean, ridge_std, lasso_mean, lasso_std], axis=1)\n",
    "\n",
    "result.columns = ['ols_mean', 'ols_std', 'ols_det_mean', 'ols_det_std', 'ridge_mean', 'ridge_std', 'lasso_mean', 'lasso_std']"
   ]
  },
  {
   "cell_type": "code",
   "execution_count": 25,
   "metadata": {},
   "outputs": [
    {
     "data": {
      "text/html": [
       "<div>\n",
       "<style scoped>\n",
       "    .dataframe tbody tr th:only-of-type {\n",
       "        vertical-align: middle;\n",
       "    }\n",
       "\n",
       "    .dataframe tbody tr th {\n",
       "        vertical-align: top;\n",
       "    }\n",
       "\n",
       "    .dataframe thead th {\n",
       "        text-align: right;\n",
       "    }\n",
       "</style>\n",
       "<table border=\"1\" class=\"dataframe\">\n",
       "  <thead>\n",
       "    <tr style=\"text-align: right;\">\n",
       "      <th></th>\n",
       "      <th>ols_mean</th>\n",
       "      <th>ols_std</th>\n",
       "      <th>ols_det_mean</th>\n",
       "      <th>ols_det_std</th>\n",
       "      <th>ridge_mean</th>\n",
       "      <th>ridge_std</th>\n",
       "      <th>lasso_mean</th>\n",
       "      <th>lasso_std</th>\n",
       "    </tr>\n",
       "    <tr>\n",
       "      <th>n</th>\n",
       "      <th></th>\n",
       "      <th></th>\n",
       "      <th></th>\n",
       "      <th></th>\n",
       "      <th></th>\n",
       "      <th></th>\n",
       "      <th></th>\n",
       "      <th></th>\n",
       "    </tr>\n",
       "  </thead>\n",
       "  <tbody>\n",
       "    <tr>\n",
       "      <th>10</th>\n",
       "      <td>178.572104</td>\n",
       "      <td>618.508430</td>\n",
       "      <td>8.367083</td>\n",
       "      <td>34.164070</td>\n",
       "      <td>0.908668</td>\n",
       "      <td>2.229327</td>\n",
       "      <td>0.541540</td>\n",
       "      <td>0.752255</td>\n",
       "    </tr>\n",
       "    <tr>\n",
       "      <th>100</th>\n",
       "      <td>0.302471</td>\n",
       "      <td>0.200022</td>\n",
       "      <td>0.041543</td>\n",
       "      <td>0.050478</td>\n",
       "      <td>0.248808</td>\n",
       "      <td>0.097640</td>\n",
       "      <td>0.320238</td>\n",
       "      <td>0.104689</td>\n",
       "    </tr>\n",
       "    <tr>\n",
       "      <th>1000</th>\n",
       "      <td>0.211942</td>\n",
       "      <td>0.023063</td>\n",
       "      <td>0.021843</td>\n",
       "      <td>0.004492</td>\n",
       "      <td>0.214787</td>\n",
       "      <td>0.022820</td>\n",
       "      <td>0.317818</td>\n",
       "      <td>0.032680</td>\n",
       "    </tr>\n",
       "    <tr>\n",
       "      <th>5000</th>\n",
       "      <td>0.208359</td>\n",
       "      <td>0.009492</td>\n",
       "      <td>0.020269</td>\n",
       "      <td>0.001561</td>\n",
       "      <td>0.209376</td>\n",
       "      <td>0.008407</td>\n",
       "      <td>0.309222</td>\n",
       "      <td>0.015131</td>\n",
       "    </tr>\n",
       "    <tr>\n",
       "      <th>10000</th>\n",
       "      <td>0.208243</td>\n",
       "      <td>0.006768</td>\n",
       "      <td>0.019726</td>\n",
       "      <td>0.000940</td>\n",
       "      <td>0.210085</td>\n",
       "      <td>0.006679</td>\n",
       "      <td>0.312457</td>\n",
       "      <td>0.009572</td>\n",
       "    </tr>\n",
       "  </tbody>\n",
       "</table>\n",
       "</div>"
      ],
      "text/plain": [
       "         ols_mean     ols_std  ols_det_mean  ols_det_std  ridge_mean  \\\n",
       "n                                                                      \n",
       "10     178.572104  618.508430      8.367083    34.164070    0.908668   \n",
       "100      0.302471    0.200022      0.041543     0.050478    0.248808   \n",
       "1000     0.211942    0.023063      0.021843     0.004492    0.214787   \n",
       "5000     0.208359    0.009492      0.020269     0.001561    0.209376   \n",
       "10000    0.208243    0.006768      0.019726     0.000940    0.210085   \n",
       "\n",
       "       ridge_std  lasso_mean  lasso_std  \n",
       "n                                        \n",
       "10      2.229327    0.541540   0.752255  \n",
       "100     0.097640    0.320238   0.104689  \n",
       "1000    0.022820    0.317818   0.032680  \n",
       "5000    0.008407    0.309222   0.015131  \n",
       "10000   0.006679    0.312457   0.009572  "
      ]
     },
     "execution_count": 25,
     "metadata": {},
     "output_type": "execute_result"
    }
   ],
   "source": [
    "result"
   ]
  }
 ],
 "metadata": {
  "kernelspec": {
   "display_name": "Python 3",
   "language": "python",
   "name": "python3"
  },
  "language_info": {
   "codemirror_mode": {
    "name": "ipython",
    "version": 3
   },
   "file_extension": ".py",
   "mimetype": "text/x-python",
   "name": "python",
   "nbconvert_exporter": "python",
   "pygments_lexer": "ipython3",
   "version": "3.11.3"
  },
  "orig_nbformat": 4
 },
 "nbformat": 4,
 "nbformat_minor": 2
}
